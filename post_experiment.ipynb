{
  "nbformat": 4,
  "nbformat_minor": 0,
  "metadata": {
    "colab": {
      "name": "post_experiment.ipynb",
      "provenance": [],
      "collapsed_sections": [],
      "mount_file_id": "1meXjm37H2hs1FTNdkrgXj4sv4MITQQ67",
      "authorship_tag": "ABX9TyP7ufwAVfBb9iJjwXSO+kFD",
      "include_colab_link": true
    },
    "kernelspec": {
      "name": "python3",
      "display_name": "Python 3"
    },
    "language_info": {
      "name": "python"
    }
  },
  "cells": [
    {
      "cell_type": "markdown",
      "metadata": {
        "id": "view-in-github",
        "colab_type": "text"
      },
      "source": [
        "<a href=\"https://colab.research.google.com/github/KW-plato/DriftDiffusionModel/blob/main/post_experiment.ipynb\" target=\"_parent\"><img src=\"https://colab.research.google.com/assets/colab-badge.svg\" alt=\"Open In Colab\"/></a>"
      ]
    },
    {
      "cell_type": "markdown",
      "source": [
        "**Code to run after every experiment on the pair's data**\n",
        "\n",
        "    Immediate feedback on the pair's accuracy, repetition bias, RT distribution and no. of sets of consecutive trials done by each\n",
        "    Recodes the data\n",
        "    saves the recoded data in a file named 'pairid.csv'. This file is later used by the HDDM and analysis codes\n",
        "\n"
      ],
      "metadata": {
        "id": "iRoGQo3Hkaf3"
      }
    },
    {
      "cell_type": "code",
      "source": [
        "import matplotlib.pyplot as plt\n",
        "import matplotlib.ticker as mtick\n",
        "import numpy as np\n",
        "import os\n",
        "import pandas as pd\n",
        "import seaborn as sns\n",
        "sns.set_palette(\"Set2\", desat=0.5)"
      ],
      "metadata": {
        "id": "_X3nzhPYkdUy"
      },
      "execution_count": 1,
      "outputs": []
    },
    {
      "cell_type": "code",
      "source": [
        "nLags = 10 #number of lag trials to be evaluated\n",
        "datasrc = \"drive/MyDrive/DDM_SP_2021-22/data\""
      ],
      "metadata": {
        "id": "MORGhWpllZUi"
      },
      "execution_count": 100,
      "outputs": []
    },
    {
      "cell_type": "code",
      "source": [
        "# for experiments where files are split use this\n",
        "\n",
        "\"\"\"\n",
        "part1 = pd.read_csv(\"https://raw.githubusercontent.com/104H/dyadicdecisionmaking/2ifc-random-dots/data/DDM_pair725232_2021_Dec_07_1845.csv\")\n",
        "part2 = pd.read_csv(\"https://raw.githubusercontent.com/104H/dyadicdecisionmaking/2ifc-random-dots/data/DDM_pair725232_2021_Dec_07_1929.csv\")\n",
        "samples_df = pd.concat([part1,part2]).reset_index(drop=True)\n",
        "\"\"\"\n"
      ],
      "metadata": {
        "colab": {
          "base_uri": "https://localhost:8080/",
          "height": 73
        },
        "id": "QLT5xEc-kiHU",
        "outputId": "db58a258-3e52-47da-c484-e8a7c4558e52"
      },
      "execution_count": 152,
      "outputs": [
        {
          "output_type": "execute_result",
          "data": {
            "application/vnd.google.colaboratory.intrinsic+json": {
              "type": "string"
            },
            "text/plain": [
              "'\\npart1 = pd.read_csv(\"https://raw.githubusercontent.com/104H/dyadicdecisionmaking/2ifc-random-dots/data/DDM_pair725232_2021_Dec_07_1845.csv\")\\npart2 = pd.read_csv(\"https://raw.githubusercontent.com/104H/dyadicdecisionmaking/2ifc-random-dots/data/DDM_pair725232_2021_Dec_07_1929.csv\")\\nsamples_df = pd.concat([part1,part2]).reset_index(drop=True)\\n'"
            ]
          },
          "metadata": {},
          "execution_count": 152
        }
      ]
    },
    {
      "cell_type": "code",
      "source": [
        "# for experiments where files are NOT split use this\n",
        "samples_df = pd.read_csv(\"https://raw.githubusercontent.com/104H/dyadicdecisionmaking/2ifc-random-dots/data/DDM_pair958733_2021_Dec_03_0952.csv\")"
      ],
      "metadata": {
        "id": "IvFPiu59kmrb"
      },
      "execution_count": 153,
      "outputs": []
    },
    {
      "cell_type": "code",
      "source": [
        "pair_id = samples_df['pair'][0]\n",
        "samples_df.head()"
      ],
      "metadata": {
        "colab": {
          "base_uri": "https://localhost:8080/",
          "height": 206
        },
        "id": "d9eVR03ekoie",
        "outputId": "80a20118-4169-4b05-e43b-38fb333f4b0e"
      },
      "execution_count": 154,
      "outputs": [
        {
          "output_type": "execute_result",
          "data": {
            "text/html": [
              "<div>\n",
              "<style scoped>\n",
              "    .dataframe tbody tr th:only-of-type {\n",
              "        vertical-align: middle;\n",
              "    }\n",
              "\n",
              "    .dataframe tbody tr th {\n",
              "        vertical-align: top;\n",
              "    }\n",
              "\n",
              "    .dataframe thead th {\n",
              "        text-align: right;\n",
              "    }\n",
              "</style>\n",
              "<table border=\"1\" class=\"dataframe\">\n",
              "  <thead>\n",
              "    <tr style=\"text-align: right;\">\n",
              "      <th></th>\n",
              "      <th>block</th>\n",
              "      <th>trial</th>\n",
              "      <th>s1_state</th>\n",
              "      <th>direction</th>\n",
              "      <th>response</th>\n",
              "      <th>rt</th>\n",
              "      <th>pair</th>\n",
              "      <th>Unnamed: 7</th>\n",
              "    </tr>\n",
              "  </thead>\n",
              "  <tbody>\n",
              "    <tr>\n",
              "      <th>0</th>\n",
              "      <td>0</td>\n",
              "      <td>0</td>\n",
              "      <td>False</td>\n",
              "      <td>right</td>\n",
              "      <td>right</td>\n",
              "      <td>1.253093</td>\n",
              "      <td>958733</td>\n",
              "      <td>NaN</td>\n",
              "    </tr>\n",
              "    <tr>\n",
              "      <th>1</th>\n",
              "      <td>0</td>\n",
              "      <td>1</td>\n",
              "      <td>True</td>\n",
              "      <td>right</td>\n",
              "      <td>right</td>\n",
              "      <td>0.652851</td>\n",
              "      <td>958733</td>\n",
              "      <td>NaN</td>\n",
              "    </tr>\n",
              "    <tr>\n",
              "      <th>2</th>\n",
              "      <td>0</td>\n",
              "      <td>2</td>\n",
              "      <td>False</td>\n",
              "      <td>right</td>\n",
              "      <td>right</td>\n",
              "      <td>0.506876</td>\n",
              "      <td>958733</td>\n",
              "      <td>NaN</td>\n",
              "    </tr>\n",
              "    <tr>\n",
              "      <th>3</th>\n",
              "      <td>0</td>\n",
              "      <td>3</td>\n",
              "      <td>True</td>\n",
              "      <td>left</td>\n",
              "      <td>left</td>\n",
              "      <td>0.439048</td>\n",
              "      <td>958733</td>\n",
              "      <td>NaN</td>\n",
              "    </tr>\n",
              "    <tr>\n",
              "      <th>4</th>\n",
              "      <td>0</td>\n",
              "      <td>4</td>\n",
              "      <td>True</td>\n",
              "      <td>right</td>\n",
              "      <td>right</td>\n",
              "      <td>0.598979</td>\n",
              "      <td>958733</td>\n",
              "      <td>NaN</td>\n",
              "    </tr>\n",
              "  </tbody>\n",
              "</table>\n",
              "</div>"
            ],
            "text/plain": [
              "   block  trial  s1_state direction response        rt    pair  Unnamed: 7\n",
              "0      0      0     False     right    right  1.253093  958733         NaN\n",
              "1      0      1      True     right    right  0.652851  958733         NaN\n",
              "2      0      2     False     right    right  0.506876  958733         NaN\n",
              "3      0      3      True      left     left  0.439048  958733         NaN\n",
              "4      0      4      True     right    right  0.598979  958733         NaN"
            ]
          },
          "metadata": {},
          "execution_count": 154
        }
      ]
    },
    {
      "cell_type": "code",
      "source": [
        "\"\"\"\n",
        "Key params\n",
        "\"\"\"\n",
        "block_repeat = samples_df['block'].max() - 1\n",
        "trials_per_block = samples_df['trial'].max() + 1"
      ],
      "metadata": {
        "id": "ZfEOjdhukxKQ"
      },
      "execution_count": 155,
      "outputs": []
    },
    {
      "cell_type": "code",
      "source": [
        "\"\"\"\n",
        "Helper Functions\n",
        "\"\"\"\n",
        "def keep_neccessary_columns(df):\n",
        "    '''\n",
        "    Keep only columns that contain important data.\n",
        "    This targets getting rid mainly columns named \".this...\".\n",
        "    '''\n",
        "    return(df[['pair','block','trial','s1_state','direction','response','rt']])\n",
        "\n",
        "def determine_correct_responses(df):\n",
        "    '''\n",
        "    If the response and direction of dots match then correct else not\n",
        "    '''\n",
        "    condition = df['direction'] == df['response'] \n",
        "    df['correct'] = 0\n",
        "    df.loc[condition, 'correct'] = 1\n",
        "    \n",
        "    return df\n",
        "\n",
        "def segregate_trial_data(df):\n",
        "    \"\"\"\n",
        "    Segregate and arrange data on a per subject basis since analysis is done per subject.\n",
        "    Output: every row is a trial data for the 'DO' subject. the dyad is by default in 'OBSERVE' state\n",
        "    every subject is given a subject id : pair-id_1 or pair-id_2\n",
        "    \"\"\"\n",
        "    temp = df.copy()\n",
        "    temp['subj_idx'] = temp['pair'].apply(str) \n",
        "    #'subj_idx' literal needed for HDDM see https://groups.google.com/g/hddm-users/c/Dhohjq_U2kU\n",
        "    temp.loc[temp['s1_state']==1,'subj_idx'] = temp.loc[temp['s1_state']==1,'subj_idx'] + '_1'\n",
        "    temp.loc[temp['s1_state']==0,'subj_idx'] = temp.loc[temp['s1_state']==0,'subj_idx'] + '_2'\n",
        "    \n",
        "    return temp\n",
        "\n",
        "\"\"\"\n",
        "def determine_response_type(df):\n",
        "\n",
        "    #Is the current response repeat or alternate of the immediate past response\n",
        "\n",
        "    df['repeat'] = df['response'] == df['response'].shift(periods=1)\n",
        "    df['repeat'] = df['repeat'].map({True:'repeat',False:'alternate'})\n",
        "    \n",
        "    return df\n",
        "\"\"\"\n",
        "    \n",
        "def collect_previous_trials(df,nprev=1):\n",
        "    \n",
        "    \"\"\"\n",
        "    Collate data of the n-th previous trial\n",
        "    \"\"\"\n",
        "    \n",
        "    prefix = 'prev' if nprev == 1 else 'prev' + str(nprev) #prefix for the column name\n",
        "    \n",
        "    \"\"\"\n",
        "    What was the stimulus of the n-th previous trial?  \n",
        "    \"\"\"\n",
        "    col_name = prefix + 'stim'\n",
        "    df[col_name] = df['direction'].shift(periods=nprev)\n",
        "    \n",
        "    \"\"\"\n",
        "    What was the response of the n-th previous trial? ?  \n",
        "    \"\"\"\n",
        "    col_name = prefix + 'resp'\n",
        "    df[col_name] = df['response'].shift(periods=nprev)\n",
        "    \n",
        "    \"\"\"\n",
        "    Who did the n-th previous trial?\n",
        "    \"\"\"\n",
        "    col_name = prefix + 'subject'\n",
        "    df[col_name] = df['subj_idx'].shift(periods=nprev)\n",
        "    \n",
        "    \"\"\"\n",
        "    Was the n-th previous trial response correct or incorrect?\n",
        "    \"\"\"\n",
        "    col_name = prefix + 'correct'\n",
        "    condition = df[prefix + 'stim'] == df[prefix + 'resp'] \n",
        "    df[col_name] = 0\n",
        "    df.loc[condition, col_name] = 1\n",
        "    \n",
        "    \"\"\"\n",
        "    Is the current response repeat of the n-th previous response\n",
        "    \"\"\"\n",
        "    col_name = prefix + 'repeat'\n",
        "    df[col_name] = df['response'] == df['response'].shift(periods=nprev)\n",
        "    df[col_name] = df[col_name].map({True:1,False:0})\n",
        "    \n",
        "    return df\n",
        "\n",
        "\"\"\"\n",
        "Remove trials where RTs are outliers. ref Urai paper.\n",
        "\"\"\"\n",
        "def remove_outliers(df):\n",
        "\n",
        "    df['rt'] = df['rt'].astype(float)\n",
        "    RTstd = 4\n",
        "    outlier_dict = {}\n",
        "    subs = df.subj_idx.unique()\n",
        "\n",
        "    for subject in subs:\n",
        "        # create subset of dataframe\n",
        "        subset = df.loc[samples_df.subj_idx==subject]\n",
        "\n",
        "        values = subset.loc[:,'rt'].values\n",
        "        mean = np.mean(values)\n",
        "        std = np.std(values)\n",
        "        thresh = mean + (std*RTstd)\n",
        "\n",
        "        # get indices of outliers\n",
        "        idx = subset.loc[(subset.rt) > thresh].index\n",
        "\n",
        "        # add amount of outliers to dictionary\n",
        "        if len(idx)==0:\n",
        "            outlier_dict[subject] = 0\n",
        "        else:\n",
        "            outlier_dict[subject] = len(idx)\n",
        "            df = df.drop(idx).reset_index(drop=True)\n",
        "\n",
        "    return df, outlier_dict\n",
        "\n",
        "\"\"\"\n",
        "Calculate the features of nth lag trial.\n",
        "n=1 is the immediately previous trial.\n",
        "\"\"\"\n",
        "def get_lag_trial(df,nprev=1): #no need to return the dataframe since it gets modified in place\n",
        "    tmp_list = []\n",
        "    prefix = 'l' + str(nprev) + '_' #prefix for the column name\n",
        "    #there is a gap in experiment between every block, so all lag features are calculated within a block only\n",
        "    for block in df['block'].unique():\n",
        "        block_select = df['block'] == block\n",
        "        df.loc[block_select,prefix + 'stim'] = df.loc[block_select,'direction'].shift(periods=nprev)\n",
        "        df.loc[block_select,prefix + 'resp'] = df.loc[block_select,'response'].shift(periods=nprev)\n",
        "        df.loc[block_select,prefix + 'subject'] = df.loc[block_select,'subj_idx'].shift(periods=nprev)\n",
        "        #is current response repeat of the nth prev response\n",
        "        df.loc[block_select,prefix + 'repeat'] = (df.loc[block_select,'response'] == df.loc[block_select,'response'].shift(periods=nprev)) * 1 # converts to 1 or 0\n",
        "    \n",
        "    for s in subjects:\n",
        "        tmp_dict = {}\n",
        "        tmp_dict['lag'] = nprev\n",
        "        tmpdf = df[(df['subj_idx']==s) & (~df[prefix + 'stim'].isna())] #remove the trials which are NaN\n",
        "        owntrials = tmpdf[prefix + 'subject'] == s\n",
        "        tmp_dict['subj_idx'] = s\n",
        "        tmp_dict['pr'] = tmpdf[prefix + 'repeat'].mean()\n",
        "        tmp_dict['pr_own'] = tmpdf.loc[owntrials, prefix + 'repeat'].mean()\n",
        "        tmp_dict['pr_other'] = tmpdf.loc[~owntrials, prefix + 'repeat'].mean()\n",
        "        tmp_list.append(tmp_dict)\n",
        "         \n",
        "    return tmp_list\n",
        "    "
      ],
      "metadata": {
        "id": "aMRXqURsk0LF"
      },
      "execution_count": 156,
      "outputs": []
    },
    {
      "cell_type": "code",
      "source": [
        "samples_df = determine_correct_responses(\n",
        "                segregate_trial_data(\n",
        "                        keep_neccessary_columns(samples_df)))\n",
        "\n",
        "samples_df.drop(['pair','s1_state'],axis=1,inplace=True)\n",
        "subjects = samples_df['subj_idx'].unique()"
      ],
      "metadata": {
        "id": "pEeN1glHk16i"
      },
      "execution_count": 157,
      "outputs": []
    },
    {
      "cell_type": "code",
      "source": [
        "samples_df.head()"
      ],
      "metadata": {
        "colab": {
          "base_uri": "https://localhost:8080/",
          "height": 206
        },
        "id": "0ziAK6Yhk-c6",
        "outputId": "06699883-0006-48b1-d0eb-666525bc779f"
      },
      "execution_count": 158,
      "outputs": [
        {
          "output_type": "execute_result",
          "data": {
            "text/html": [
              "<div>\n",
              "<style scoped>\n",
              "    .dataframe tbody tr th:only-of-type {\n",
              "        vertical-align: middle;\n",
              "    }\n",
              "\n",
              "    .dataframe tbody tr th {\n",
              "        vertical-align: top;\n",
              "    }\n",
              "\n",
              "    .dataframe thead th {\n",
              "        text-align: right;\n",
              "    }\n",
              "</style>\n",
              "<table border=\"1\" class=\"dataframe\">\n",
              "  <thead>\n",
              "    <tr style=\"text-align: right;\">\n",
              "      <th></th>\n",
              "      <th>block</th>\n",
              "      <th>trial</th>\n",
              "      <th>direction</th>\n",
              "      <th>response</th>\n",
              "      <th>rt</th>\n",
              "      <th>subj_idx</th>\n",
              "      <th>correct</th>\n",
              "    </tr>\n",
              "  </thead>\n",
              "  <tbody>\n",
              "    <tr>\n",
              "      <th>0</th>\n",
              "      <td>0</td>\n",
              "      <td>0</td>\n",
              "      <td>right</td>\n",
              "      <td>right</td>\n",
              "      <td>1.253093</td>\n",
              "      <td>958733_2</td>\n",
              "      <td>1</td>\n",
              "    </tr>\n",
              "    <tr>\n",
              "      <th>1</th>\n",
              "      <td>0</td>\n",
              "      <td>1</td>\n",
              "      <td>right</td>\n",
              "      <td>right</td>\n",
              "      <td>0.652851</td>\n",
              "      <td>958733_1</td>\n",
              "      <td>1</td>\n",
              "    </tr>\n",
              "    <tr>\n",
              "      <th>2</th>\n",
              "      <td>0</td>\n",
              "      <td>2</td>\n",
              "      <td>right</td>\n",
              "      <td>right</td>\n",
              "      <td>0.506876</td>\n",
              "      <td>958733_2</td>\n",
              "      <td>1</td>\n",
              "    </tr>\n",
              "    <tr>\n",
              "      <th>3</th>\n",
              "      <td>0</td>\n",
              "      <td>3</td>\n",
              "      <td>left</td>\n",
              "      <td>left</td>\n",
              "      <td>0.439048</td>\n",
              "      <td>958733_1</td>\n",
              "      <td>1</td>\n",
              "    </tr>\n",
              "    <tr>\n",
              "      <th>4</th>\n",
              "      <td>0</td>\n",
              "      <td>4</td>\n",
              "      <td>right</td>\n",
              "      <td>right</td>\n",
              "      <td>0.598979</td>\n",
              "      <td>958733_1</td>\n",
              "      <td>1</td>\n",
              "    </tr>\n",
              "  </tbody>\n",
              "</table>\n",
              "</div>"
            ],
            "text/plain": [
              "   block  trial direction response        rt  subj_idx  correct\n",
              "0      0      0     right    right  1.253093  958733_2        1\n",
              "1      0      1     right    right  0.652851  958733_1        1\n",
              "2      0      2     right    right  0.506876  958733_2        1\n",
              "3      0      3      left     left  0.439048  958733_1        1\n",
              "4      0      4     right    right  0.598979  958733_1        1"
            ]
          },
          "metadata": {},
          "execution_count": 158
        }
      ]
    },
    {
      "cell_type": "code",
      "source": [
        "fig, ax = plt.subplots(figsize=(2,6))\n",
        "tmpdf = (samples_df\n",
        "         .groupby(['subj_idx'])['correct']\n",
        "         .value_counts(normalize=True)\n",
        "         .unstack(fill_value=0)\n",
        "         .stack()\n",
        "         .rename(\"proportion\")\n",
        "         .reset_index()\n",
        "        )\n",
        "tmpdf[\"proportion\"] = tmpdf[\"proportion\"] * 100\n",
        "sns.barplot(x=\"subj_idx\", y=\"proportion\", data=tmpdf[tmpdf[\"correct\"]==1],ax=ax)\n",
        "ax.axhline(75,color='red',linestyle='--')\n",
        "ax.set_title(\"Overall performance of each subject\", fontsize=14)\n",
        "ax.set_ylim((50,100))\n",
        "ax.set_yticks(np.arange(50,100,2))\n",
        "ax.set_ylabel(\"% Correct\")\n",
        "plt.show()\n"
      ],
      "metadata": {
        "colab": {
          "base_uri": "https://localhost:8080/",
          "height": 407
        },
        "id": "hZE1scvxlBgV",
        "outputId": "2d3046c0-6bdf-45c5-f557-0a73793863a6"
      },
      "execution_count": 159,
      "outputs": [
        {
          "output_type": "display_data",
          "data": {
            "image/png": "[encoded data removed]",
            "text/plain": [
              "<Figure size 144x432 with 1 Axes>"
            ]
          },
          "metadata": {
            "needs_background": "light"
          }
        }
      ]
    },
    {
      "cell_type": "code",
      "source": [
        "tmpdf = (samples_df\n",
        "         .groupby(['subj_idx','direction'])['correct']\n",
        "         .value_counts(normalize=True)\n",
        "         .unstack(fill_value=0)\n",
        "         .stack()\n",
        "         .rename(\"proportion\")\n",
        "         .reset_index()\n",
        "        )\n",
        "tmpdf[\"proportion\"] = tmpdf[\"proportion\"] * 100\n",
        "g = sns.catplot(\n",
        "    data=tmpdf[tmpdf[\"correct\"]==1],\n",
        "    x='direction',\n",
        "    y='proportion', \n",
        "    hue='correct', \n",
        "    col='subj_idx', \n",
        "    kind='bar',\n",
        "    legend=False\n",
        ")\n",
        "g.fig.subplots_adjust(top=0.86)\n",
        "g.fig.suptitle('Performance of each subject for left and right moving dots', fontsize=14)\n",
        "g.set(ylabel=\"% Correct\")\n",
        "g.axes[0][0].set_yticks(np.arange(0,100,5))\n",
        "g.axes[0][1].set_yticks(np.arange(0,100,5))\n",
        "g.axes[0][0].axhline(y=75, color='red', linestyle='--')\n",
        "g.axes[0][1].axhline(y=75, color='red', linestyle='--')\n",
        "plt.show()"
      ],
      "metadata": {
        "colab": {
          "base_uri": "https://localhost:8080/",
          "height": 373
        },
        "id": "DaceHNRTlGT-",
        "outputId": "f85f744a-761a-412f-b9d2-324ca362ed99"
      },
      "execution_count": 160,
      "outputs": [
        {
          "output_type": "display_data",
          "data": {
            "image/png": "[encoded data removed]",
            "text/plain": [
              "<Figure size 720x360 with 2 Axes>"
            ]
          },
          "metadata": {
            "needs_background": "light"
          }
        }
      ]
    },
    {
      "cell_type": "code",
      "source": [
        "individual = []\n",
        "for nprev in range(1,nLags+1):\n",
        "    individual.extend(get_lag_trial(samples_df,nprev))\n",
        "    \n",
        "individual_df = pd.DataFrame(individual)\n"
      ],
      "metadata": {
        "id": "1CyjBzMnlPdT"
      },
      "execution_count": 161,
      "outputs": []
    },
    {
      "cell_type": "code",
      "source": [
        "display(individual_df) "
      ],
      "metadata": {
        "colab": {
          "base_uri": "https://localhost:8080/",
          "height": 677
        },
        "id": "odNEJPa_lg7J",
        "outputId": "66b8ad9f-8130-4fa6-a2fc-9f3fd6f12364"
      },
      "execution_count": 162,
      "outputs": [
        {
          "output_type": "display_data",
          "data": {
            "text/html": [
              "<div>\n",
              "<style scoped>\n",
              "    .dataframe tbody tr th:only-of-type {\n",
              "        vertical-align: middle;\n",
              "    }\n",
              "\n",
              "    .dataframe tbody tr th {\n",
              "        vertical-align: top;\n",
              "    }\n",
              "\n",
              "    .dataframe thead th {\n",
              "        text-align: right;\n",
              "    }\n",
              "</style>\n",
              "<table border=\"1\" class=\"dataframe\">\n",
              "  <thead>\n",
              "    <tr style=\"text-align: right;\">\n",
              "      <th></th>\n",
              "      <th>lag</th>\n",
              "      <th>subj_idx</th>\n",
              "      <th>pr</th>\n",
              "      <th>pr_own</th>\n",
              "      <th>pr_other</th>\n",
              "    </tr>\n",
              "  </thead>\n",
              "  <tbody>\n",
              "    <tr>\n",
              "      <th>0</th>\n",
              "      <td>1</td>\n",
              "      <td>958733_2</td>\n",
              "      <td>0.463462</td>\n",
              "      <td>0.453237</td>\n",
              "      <td>0.475207</td>\n",
              "    </tr>\n",
              "    <tr>\n",
              "      <th>1</th>\n",
              "      <td>1</td>\n",
              "      <td>958733_1</td>\n",
              "      <td>0.482979</td>\n",
              "      <td>0.508850</td>\n",
              "      <td>0.459016</td>\n",
              "    </tr>\n",
              "    <tr>\n",
              "      <th>2</th>\n",
              "      <td>2</td>\n",
              "      <td>958733_2</td>\n",
              "      <td>0.530097</td>\n",
              "      <td>0.580292</td>\n",
              "      <td>0.473029</td>\n",
              "    </tr>\n",
              "    <tr>\n",
              "      <th>3</th>\n",
              "      <td>2</td>\n",
              "      <td>958733_1</td>\n",
              "      <td>0.492473</td>\n",
              "      <td>0.497738</td>\n",
              "      <td>0.487705</td>\n",
              "    </tr>\n",
              "    <tr>\n",
              "      <th>4</th>\n",
              "      <td>3</td>\n",
              "      <td>958733_2</td>\n",
              "      <td>0.530452</td>\n",
              "      <td>0.568773</td>\n",
              "      <td>0.487500</td>\n",
              "    </tr>\n",
              "    <tr>\n",
              "      <th>5</th>\n",
              "      <td>3</td>\n",
              "      <td>958733_1</td>\n",
              "      <td>0.488069</td>\n",
              "      <td>0.465438</td>\n",
              "      <td>0.508197</td>\n",
              "    </tr>\n",
              "    <tr>\n",
              "      <th>6</th>\n",
              "      <td>4</td>\n",
              "      <td>958733_2</td>\n",
              "      <td>0.586957</td>\n",
              "      <td>0.594203</td>\n",
              "      <td>0.578261</td>\n",
              "    </tr>\n",
              "    <tr>\n",
              "      <th>7</th>\n",
              "      <td>4</td>\n",
              "      <td>958733_1</td>\n",
              "      <td>0.464758</td>\n",
              "      <td>0.465753</td>\n",
              "      <td>0.463830</td>\n",
              "    </tr>\n",
              "    <tr>\n",
              "      <th>8</th>\n",
              "      <td>5</td>\n",
              "      <td>958733_2</td>\n",
              "      <td>0.533730</td>\n",
              "      <td>0.578358</td>\n",
              "      <td>0.483051</td>\n",
              "    </tr>\n",
              "    <tr>\n",
              "      <th>9</th>\n",
              "      <td>5</td>\n",
              "      <td>958733_1</td>\n",
              "      <td>0.526906</td>\n",
              "      <td>0.586538</td>\n",
              "      <td>0.474790</td>\n",
              "    </tr>\n",
              "    <tr>\n",
              "      <th>10</th>\n",
              "      <td>6</td>\n",
              "      <td>958733_2</td>\n",
              "      <td>0.516000</td>\n",
              "      <td>0.555556</td>\n",
              "      <td>0.469565</td>\n",
              "    </tr>\n",
              "    <tr>\n",
              "      <th>11</th>\n",
              "      <td>6</td>\n",
              "      <td>958733_1</td>\n",
              "      <td>0.513636</td>\n",
              "      <td>0.565217</td>\n",
              "      <td>0.467811</td>\n",
              "    </tr>\n",
              "    <tr>\n",
              "      <th>12</th>\n",
              "      <td>7</td>\n",
              "      <td>958733_2</td>\n",
              "      <td>0.528340</td>\n",
              "      <td>0.558140</td>\n",
              "      <td>0.495763</td>\n",
              "    </tr>\n",
              "    <tr>\n",
              "      <th>13</th>\n",
              "      <td>7</td>\n",
              "      <td>958733_1</td>\n",
              "      <td>0.543578</td>\n",
              "      <td>0.558974</td>\n",
              "      <td>0.531120</td>\n",
              "    </tr>\n",
              "    <tr>\n",
              "      <th>14</th>\n",
              "      <td>8</td>\n",
              "      <td>958733_2</td>\n",
              "      <td>0.556237</td>\n",
              "      <td>0.570342</td>\n",
              "      <td>0.539823</td>\n",
              "    </tr>\n",
              "    <tr>\n",
              "      <th>15</th>\n",
              "      <td>8</td>\n",
              "      <td>958733_1</td>\n",
              "      <td>0.519722</td>\n",
              "      <td>0.477612</td>\n",
              "      <td>0.556522</td>\n",
              "    </tr>\n",
              "    <tr>\n",
              "      <th>16</th>\n",
              "      <td>9</td>\n",
              "      <td>958733_2</td>\n",
              "      <td>0.508299</td>\n",
              "      <td>0.526923</td>\n",
              "      <td>0.486486</td>\n",
              "    </tr>\n",
              "    <tr>\n",
              "      <th>17</th>\n",
              "      <td>9</td>\n",
              "      <td>958733_1</td>\n",
              "      <td>0.490654</td>\n",
              "      <td>0.559406</td>\n",
              "      <td>0.429204</td>\n",
              "    </tr>\n",
              "    <tr>\n",
              "      <th>18</th>\n",
              "      <td>10</td>\n",
              "      <td>958733_2</td>\n",
              "      <td>0.581933</td>\n",
              "      <td>0.635659</td>\n",
              "      <td>0.518349</td>\n",
              "    </tr>\n",
              "    <tr>\n",
              "      <th>19</th>\n",
              "      <td>10</td>\n",
              "      <td>958733_1</td>\n",
              "      <td>0.462264</td>\n",
              "      <td>0.467980</td>\n",
              "      <td>0.457014</td>\n",
              "    </tr>\n",
              "  </tbody>\n",
              "</table>\n",
              "</div>"
            ],
            "text/plain": [
              "    lag  subj_idx        pr    pr_own  pr_other\n",
              "0     1  958733_2  0.463462  0.453237  0.475207\n",
              "1     1  958733_1  0.482979  0.508850  0.459016\n",
              "2     2  958733_2  0.530097  0.580292  0.473029\n",
              "3     2  958733_1  0.492473  0.497738  0.487705\n",
              "4     3  958733_2  0.530452  0.568773  0.487500\n",
              "5     3  958733_1  0.488069  0.465438  0.508197\n",
              "6     4  958733_2  0.586957  0.594203  0.578261\n",
              "7     4  958733_1  0.464758  0.465753  0.463830\n",
              "8     5  958733_2  0.533730  0.578358  0.483051\n",
              "9     5  958733_1  0.526906  0.586538  0.474790\n",
              "10    6  958733_2  0.516000  0.555556  0.469565\n",
              "11    6  958733_1  0.513636  0.565217  0.467811\n",
              "12    7  958733_2  0.528340  0.558140  0.495763\n",
              "13    7  958733_1  0.543578  0.558974  0.531120\n",
              "14    8  958733_2  0.556237  0.570342  0.539823\n",
              "15    8  958733_1  0.519722  0.477612  0.556522\n",
              "16    9  958733_2  0.508299  0.526923  0.486486\n",
              "17    9  958733_1  0.490654  0.559406  0.429204\n",
              "18   10  958733_2  0.581933  0.635659  0.518349\n",
              "19   10  958733_1  0.462264  0.467980  0.457014"
            ]
          },
          "metadata": {}
        }
      ]
    },
    {
      "cell_type": "code",
      "source": [
        "fig, ax = plt.subplots(3,1,figsize=(10,10))\n",
        "g1 = sns.barplot(\n",
        "    data=individual_df,\n",
        "    x='lag',\n",
        "    y= 'pr',\n",
        "    hue='subj_idx',\n",
        "    ax=ax[0])\n",
        "\n",
        "g2 = sns.barplot(\n",
        "    data=individual_df,\n",
        "    x='lag',\n",
        "    y= 'pr_own',\n",
        "    hue='subj_idx',\n",
        "    ax=ax[1])\n",
        "\n",
        "g3 = sns.barplot(\n",
        "    data=individual_df,\n",
        "    x='lag',\n",
        "    y= 'pr_other',\n",
        "    hue='subj_idx',\n",
        "    ax=ax[2])\n",
        "\n",
        "ax[0].set_title(\"P(repeat): Overall\",fontsize=14)\n",
        "ax[1].set_title(\"P(repeat): The n-Lag trial is own\",fontsize=14)\n",
        "ax[2].set_title(\"P(repeat): The n-Lag trial is partner's\",fontsize=14)\n",
        "\n",
        "for i in range(3):\n",
        "    ax[i].axhline(y=0.5, color='red', linestyle='--')\n",
        "    ax[i].set_xlabel(\"Lag\",fontsize=12)\n",
        "    ax[i].set_ylabel(\"p(repeat)\",fontsize=12)\n",
        "    ax[i].legend(loc='upper right',bbox_to_anchor=(1.2, 1),title=\"Subject Id\" )\n",
        "\n",
        "plt.tight_layout()\n",
        "plt.show()"
      ],
      "metadata": {
        "colab": {
          "base_uri": "https://localhost:8080/",
          "height": 729
        },
        "id": "HEsagnYHlm3F",
        "outputId": "7faa3e8f-cbc0-4b2f-c045-2d52eec86cb1"
      },
      "execution_count": 163,
      "outputs": [
        {
          "output_type": "display_data",
          "data": {
            "image/png": "[encoded data removed]",
            "text/plain": [
              "<Figure size 720x720 with 3 Axes>"
            ]
          },
          "metadata": {
            "needs_background": "light"
          }
        }
      ]
    },
    {
      "cell_type": "code",
      "source": [
        "#remove RT outliers\n",
        "\"\"\"\n",
        "Should we remove outliers first and then do the rest of the analysis?\n",
        "Problem: in-between some trials get lost so the previous trials are not really previous trials\n",
        "If we remove outliers later?\n",
        "The removed trials continue to impact since they persist in the previous trial calculations\n",
        "\"\"\"\n",
        "samples_df, outlier = remove_outliers(samples_df)\n",
        "print('No. of outliers: ' + str(outlier))"
      ],
      "metadata": {
        "colab": {
          "base_uri": "https://localhost:8080/"
        },
        "id": "fb3OxL9Ylp9N",
        "outputId": "45a9db9a-1555-46f8-a09d-63e8ae584bd9"
      },
      "execution_count": 164,
      "outputs": [
        {
          "output_type": "stream",
          "name": "stdout",
          "text": [
            "No. of outliers: {'958733_2': 3, '958733_1': 2}\n"
          ]
        }
      ]
    },
    {
      "cell_type": "code",
      "source": [
        "#plot RT distributions for left and right for each  subject\n",
        "fig, ax = plt.subplots(2,2,figsize=(18,6))\n",
        "fig.suptitle(\"RT Distributions\",fontsize=16)\n",
        "for i,s in enumerate(subjects):\n",
        "    df = samples_df.loc[samples_df['subj_idx']==s]\n",
        "    me = df['rt'].mean()\n",
        "    med = df['rt'].median()\n",
        "    #df.loc[df['direction']== 'left','rt'] *= -1\n",
        "    #n, bins, patches = ax[0][i].hist(df['rt'], 50, density=True, facecolor='g', alpha=0.75)\n",
        "    sns.histplot(data=df,x='rt', hue='direction',stat='count',ax=ax[0][i],hue_order=['left','right'])\n",
        "    ax[0][i].axvline(me,color='red')\n",
        "    ax[0][i].axvline(med,color='blue')\n",
        "    ax[0][i].set_title(\"Subject id: {}, Mean: {:3.2f}s, Median: {:3.2f}s\".format(s,me,med),fontsize=14)\n",
        "    sns.boxplot(data=df,x='rt',y='direction',order=['left','right'],ax=ax[1][i])\n",
        "\n",
        "plt.tight_layout()\n",
        "plt.show()\n"
      ],
      "metadata": {
        "colab": {
          "base_uri": "https://localhost:8080/",
          "height": 404
        },
        "id": "Se-ptPwoltFG",
        "outputId": "bfc4f3f3-56b7-4657-8582-7f4d6ca3a62a"
      },
      "execution_count": 165,
      "outputs": [
        {
          "output_type": "display_data",
          "data": {
            "image/png": "[encoded data removed]",
            "text/plain": [
              "<Figure size 1296x432 with 4 Axes>"
            ]
          },
          "metadata": {
            "needs_background": "light"
          }
        }
      ]
    },
    {
      "cell_type": "code",
      "source": [
        "\"\"\"\n",
        "How many runs of n-consecutive trials did each subject did?\n",
        "\n",
        "Call a set of consecutive trials by the same subject a 'run'.\n",
        "A run can be from 1 trial to any number since it is randomly selected which subject will be \"DO\".\n",
        "Sumamrize how many differnt kinds of run did each subject get\n",
        "\"\"\"\n",
        "#assign a run_id to each trial identifying all trials that belong to the same run\n",
        "samples_df['run_id']=(samples_df['subj_idx'] != samples_df['subj_idx'].shift()).cumsum()\n",
        "#summarize per subject: how many trials are in each run_id\n",
        "conseq = samples_df.groupby(['subj_idx'])['run_id'].value_counts().rename('conseq').reset_index()\n",
        "#summarize per subject: how many runs of differnt sizes \n",
        "trials_df = conseq.groupby(['subj_idx'])['conseq'].value_counts().rename('nTrials').reset_index()\n",
        "#plot \n",
        "fig, ax = plt.subplots()\n",
        "sns.barplot(\n",
        "    data=trials_df,\n",
        "    x='conseq',\n",
        "    y= 'nTrials',\n",
        "    hue='subj_idx',\n",
        "    ax=ax)\n",
        "ax.legend(loc='upper right',title=\"Subject Id\")\n",
        "ax.set_ylabel(\"No. of Runs\",fontsize=12)\n",
        "ax.set_xlabel(\"No. of trials in a run\",fontsize=12)\n",
        "plt.title(\"No. of consecutive trials per subject\",fontsize=14)\n",
        "plt.show()\n"
      ],
      "metadata": {
        "colab": {
          "base_uri": "https://localhost:8080/",
          "height": 299
        },
        "id": "aJCwSZWXlxVL",
        "outputId": "31922403-d2a1-4526-e1e9-71aa98a582aa"
      },
      "execution_count": 166,
      "outputs": [
        {
          "output_type": "display_data",
          "data": {
            "image/png": "[encoded data removed]",
            "text/plain": [
              "<Figure size 432x288 with 1 Axes>"
            ]
          },
          "metadata": {
            "needs_background": "light"
          }
        }
      ]
    },
    {
      "cell_type": "code",
      "source": [
        "\"\"\"\n",
        "Recode data \n",
        "Codes:\n",
        "for stimulus and response left,right :: -1,1\n",
        "for correctness, correct,incorrect:: 1,0 already done during calculations\n",
        "\"\"\"\n",
        "samples_df.replace({'left':-1,'right':1},inplace=True)"
      ],
      "metadata": {
        "id": "zeLxBsR9l1P3"
      },
      "execution_count": 167,
      "outputs": []
    },
    {
      "cell_type": "code",
      "source": [
        "#save the file\n",
        "#samples_df.drop(columns=['run_id'],axis=1,inplace=True)\n",
        "samples_df.to_csv(os.path.join(datasrc,'coded','pair' + str(pair_id) + '.csv' ),header=True,index=False)"
      ],
      "metadata": {
        "id": "LW2NRoMCl4wK"
      },
      "execution_count": 168,
      "outputs": []
    }
  ]
}